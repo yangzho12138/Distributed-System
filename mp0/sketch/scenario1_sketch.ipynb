{
  "nbformat": 4,
  "nbformat_minor": 0,
  "metadata": {
    "colab": {
      "provenance": []
    },
    "kernelspec": {
      "name": "python3",
      "display_name": "Python 3"
    },
    "language_info": {
      "name": "python"
    }
  },
  "cells": [
    {
      "cell_type": "code",
      "execution_count": null,
      "metadata": {
        "id": "dL1ScSC6iLnz"
      },
      "outputs": [],
      "source": [
        "num = 3\n",
        "time = 100\n",
        "F = open(log.txt\",\"r\")\n",
        "print(F)"
      ]
    }
  ]
}