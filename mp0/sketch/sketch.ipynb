{
  "nbformat": 4,
  "nbformat_minor": 0,
  "metadata": {
    "colab": {
      "provenance": []
    },
    "kernelspec": {
      "name": "python3",
      "display_name": "Python 3"
    },
    "language_info": {
      "name": "python"
    }
  },
  "cells": [
    {
      "cell_type": "code",
      "execution_count": 34,
      "metadata": {
        "id": "dL1ScSC6iLnz",
        "colab": {
          "base_uri": "https://localhost:8080/",
          "height": 92
        },
        "outputId": "4f34b87e-6693-4da2-c415-0c4f6bbe7d5c"
      },
      "outputs": [
        {
          "output_type": "display_data",
          "data": {
            "text/plain": [
              "<IPython.core.display.HTML object>"
            ],
            "text/html": [
              "\n",
              "     <input type=\"file\" id=\"files-7847edce-4258-4f8f-b9fb-bd595201332d\" name=\"files[]\" multiple disabled\n",
              "        style=\"border:none\" />\n",
              "     <output id=\"result-7847edce-4258-4f8f-b9fb-bd595201332d\">\n",
              "      Upload widget is only available when the cell has been executed in the\n",
              "      current browser session. Please rerun this cell to enable.\n",
              "      </output>\n",
              "      <script>// Copyright 2017 Google LLC\n",
              "//\n",
              "// Licensed under the Apache License, Version 2.0 (the \"License\");\n",
              "// you may not use this file except in compliance with the License.\n",
              "// You may obtain a copy of the License at\n",
              "//\n",
              "//      http://www.apache.org/licenses/LICENSE-2.0\n",
              "//\n",
              "// Unless required by applicable law or agreed to in writing, software\n",
              "// distributed under the License is distributed on an \"AS IS\" BASIS,\n",
              "// WITHOUT WARRANTIES OR CONDITIONS OF ANY KIND, either express or implied.\n",
              "// See the License for the specific language governing permissions and\n",
              "// limitations under the License.\n",
              "\n",
              "/**\n",
              " * @fileoverview Helpers for google.colab Python module.\n",
              " */\n",
              "(function(scope) {\n",
              "function span(text, styleAttributes = {}) {\n",
              "  const element = document.createElement('span');\n",
              "  element.textContent = text;\n",
              "  for (const key of Object.keys(styleAttributes)) {\n",
              "    element.style[key] = styleAttributes[key];\n",
              "  }\n",
              "  return element;\n",
              "}\n",
              "\n",
              "// Max number of bytes which will be uploaded at a time.\n",
              "const MAX_PAYLOAD_SIZE = 100 * 1024;\n",
              "\n",
              "function _uploadFiles(inputId, outputId) {\n",
              "  const steps = uploadFilesStep(inputId, outputId);\n",
              "  const outputElement = document.getElementById(outputId);\n",
              "  // Cache steps on the outputElement to make it available for the next call\n",
              "  // to uploadFilesContinue from Python.\n",
              "  outputElement.steps = steps;\n",
              "\n",
              "  return _uploadFilesContinue(outputId);\n",
              "}\n",
              "\n",
              "// This is roughly an async generator (not supported in the browser yet),\n",
              "// where there are multiple asynchronous steps and the Python side is going\n",
              "// to poll for completion of each step.\n",
              "// This uses a Promise to block the python side on completion of each step,\n",
              "// then passes the result of the previous step as the input to the next step.\n",
              "function _uploadFilesContinue(outputId) {\n",
              "  const outputElement = document.getElementById(outputId);\n",
              "  const steps = outputElement.steps;\n",
              "\n",
              "  const next = steps.next(outputElement.lastPromiseValue);\n",
              "  return Promise.resolve(next.value.promise).then((value) => {\n",
              "    // Cache the last promise value to make it available to the next\n",
              "    // step of the generator.\n",
              "    outputElement.lastPromiseValue = value;\n",
              "    return next.value.response;\n",
              "  });\n",
              "}\n",
              "\n",
              "/**\n",
              " * Generator function which is called between each async step of the upload\n",
              " * process.\n",
              " * @param {string} inputId Element ID of the input file picker element.\n",
              " * @param {string} outputId Element ID of the output display.\n",
              " * @return {!Iterable<!Object>} Iterable of next steps.\n",
              " */\n",
              "function* uploadFilesStep(inputId, outputId) {\n",
              "  const inputElement = document.getElementById(inputId);\n",
              "  inputElement.disabled = false;\n",
              "\n",
              "  const outputElement = document.getElementById(outputId);\n",
              "  outputElement.innerHTML = '';\n",
              "\n",
              "  const pickedPromise = new Promise((resolve) => {\n",
              "    inputElement.addEventListener('change', (e) => {\n",
              "      resolve(e.target.files);\n",
              "    });\n",
              "  });\n",
              "\n",
              "  const cancel = document.createElement('button');\n",
              "  inputElement.parentElement.appendChild(cancel);\n",
              "  cancel.textContent = 'Cancel upload';\n",
              "  const cancelPromise = new Promise((resolve) => {\n",
              "    cancel.onclick = () => {\n",
              "      resolve(null);\n",
              "    };\n",
              "  });\n",
              "\n",
              "  // Wait for the user to pick the files.\n",
              "  const files = yield {\n",
              "    promise: Promise.race([pickedPromise, cancelPromise]),\n",
              "    response: {\n",
              "      action: 'starting',\n",
              "    }\n",
              "  };\n",
              "\n",
              "  cancel.remove();\n",
              "\n",
              "  // Disable the input element since further picks are not allowed.\n",
              "  inputElement.disabled = true;\n",
              "\n",
              "  if (!files) {\n",
              "    return {\n",
              "      response: {\n",
              "        action: 'complete',\n",
              "      }\n",
              "    };\n",
              "  }\n",
              "\n",
              "  for (const file of files) {\n",
              "    const li = document.createElement('li');\n",
              "    li.append(span(file.name, {fontWeight: 'bold'}));\n",
              "    li.append(span(\n",
              "        `(${file.type || 'n/a'}) - ${file.size} bytes, ` +\n",
              "        `last modified: ${\n",
              "            file.lastModifiedDate ? file.lastModifiedDate.toLocaleDateString() :\n",
              "                                    'n/a'} - `));\n",
              "    const percent = span('0% done');\n",
              "    li.appendChild(percent);\n",
              "\n",
              "    outputElement.appendChild(li);\n",
              "\n",
              "    const fileDataPromise = new Promise((resolve) => {\n",
              "      const reader = new FileReader();\n",
              "      reader.onload = (e) => {\n",
              "        resolve(e.target.result);\n",
              "      };\n",
              "      reader.readAsArrayBuffer(file);\n",
              "    });\n",
              "    // Wait for the data to be ready.\n",
              "    let fileData = yield {\n",
              "      promise: fileDataPromise,\n",
              "      response: {\n",
              "        action: 'continue',\n",
              "      }\n",
              "    };\n",
              "\n",
              "    // Use a chunked sending to avoid message size limits. See b/62115660.\n",
              "    let position = 0;\n",
              "    do {\n",
              "      const length = Math.min(fileData.byteLength - position, MAX_PAYLOAD_SIZE);\n",
              "      const chunk = new Uint8Array(fileData, position, length);\n",
              "      position += length;\n",
              "\n",
              "      const base64 = btoa(String.fromCharCode.apply(null, chunk));\n",
              "      yield {\n",
              "        response: {\n",
              "          action: 'append',\n",
              "          file: file.name,\n",
              "          data: base64,\n",
              "        },\n",
              "      };\n",
              "\n",
              "      let percentDone = fileData.byteLength === 0 ?\n",
              "          100 :\n",
              "          Math.round((position / fileData.byteLength) * 100);\n",
              "      percent.textContent = `${percentDone}% done`;\n",
              "\n",
              "    } while (position < fileData.byteLength);\n",
              "  }\n",
              "\n",
              "  // All done.\n",
              "  yield {\n",
              "    response: {\n",
              "      action: 'complete',\n",
              "    }\n",
              "  };\n",
              "}\n",
              "\n",
              "scope.google = scope.google || {};\n",
              "scope.google.colab = scope.google.colab || {};\n",
              "scope.google.colab._files = {\n",
              "  _uploadFiles,\n",
              "  _uploadFilesContinue,\n",
              "};\n",
              "})(self);\n",
              "</script> "
            ]
          },
          "metadata": {}
        },
        {
          "output_type": "stream",
          "name": "stdout",
          "text": [
            "Saving log.txt to log.txt\n",
            "User uploaded file \"log.txt\" with length 5148 bytes\n"
          ]
        }
      ],
      "source": [
        "from google.colab import files\n",
        "import io\n",
        "import pandas as pd\n",
        "import matplotlib.pyplot as plt\n",
        "import numpy as np\n",
        "\n",
        "time = 100\n",
        "\n",
        "uploaded = files.upload()\n",
        "for fn in uploaded.keys():\n",
        "  print('User uploaded file \"{name}\" with length {length} bytes'.format(\n",
        "      name=fn, length=len(uploaded[fn])))\n",
        "data_path = 'log.txt'\n",
        "with open(data_path, 'r') as f:\n",
        "    lines = f.read().rstrip('\\n').split('\\n')"
      ]
    },
    {
      "cell_type": "code",
      "source": [
        "# compute delays and bandwidths\n",
        "delays, bandwidths = [[] for _ in range(time)], [[] for _ in range(time)]\n",
        "for count, line in enumerate(lines):\n",
        "  line = line.split()\n",
        "  if count == 0:\n",
        "    start = int(float(line[3]))\n",
        "  for i in range(time):\n",
        "    if start + i <= int(float(line[2])) < start + i + 1:\n",
        "      delay = float(line[3]) - float(line[2])\n",
        "      delays[i].append(delay)\n",
        "      bandwidths[i].append(float(line[4]))\n",
        "print(delays)\n",
        "print(bandwidths)"
      ],
      "metadata": {
        "colab": {
          "base_uri": "https://localhost:8080/"
        },
        "id": "6qu0I0Vewn32",
        "outputId": "de507462-2bca-4957-bccb-145aba2eb4f7"
      },
      "execution_count": 40,
      "outputs": [
        {
          "output_type": "stream",
          "name": "stdout",
          "text": [
            "[[9.703636169433594e-05], [], [6.127357482910156e-05, 0.00020456314086914062], [], [5.626678466796875e-05, 0.0002894401550292969], [], [], [], [], [], [], [], [], [], [], [], [], [], [], [], [], [0.00027489662170410156], [], [], [], [], [], [0.0002529621124267578], [], [0.00023627281188964844], [], [], [], [], [], [], [], [], [], [], [], [0.0002987384796142578], [], [], [0.00014591217041015625], [0.00019097328186035156], [], [], [0.0002543926239013672], [0.0002295970916748047], [], [], [], [0.0002262592315673828, 0.00019288063049316406], [0.0001983642578125], [0.00021767616271972656, 0.00020122528076171875], [], [], [], [], [], [], [], [], [0.00023245811462402344], [0.00019550323486328125], [], [], [], [0.0002772808074951172], [], [], [], [0.0003001689910888672], [], [0.00024366378784179688], [], [], [], [0.0002696514129638672], [0.00021958351135253906, 0.0002906322479248047], [], [], [], [0.00025200843811035156], [0.0002474784851074219, 0.0002307891845703125], [0.00021457672119140625], [], [], [0.00024056434631347656, 0.00013566017150878906], [], [], [], [0.0002808570861816406], [0.0003135204315185547], [], [], [], [0.0002276897430419922], []]\n",
            "[[127.0], [], [38.0, 88.0], [], [38.0, 89.0], [], [], [], [], [], [], [], [], [], [], [], [], [], [], [], [], [88.0], [], [], [], [], [], [89.0], [], [89.0], [], [], [], [], [], [], [], [], [], [], [], [89.0], [], [], [89.0], [89.0], [], [], [89.0], [89.0], [], [], [], [89.0, 89.0], [89.0], [89.0, 89.0], [], [], [], [], [], [], [], [], [87.0], [89.0], [], [], [], [89.0], [], [], [], [89.0], [], [89.0], [], [], [], [88.0], [88.0, 89.0], [], [], [], [88.0], [89.0, 88.0], [87.0], [], [], [89.0, 89.0], [], [], [], [85.0], [89.0], [], [], [], [89.0], []]\n"
          ]
        }
      ]
    },
    {
      "cell_type": "code",
      "source": [
        "delays_form = pd.DataFrame(data=delays).T\n",
        "print(delays_form)"
      ],
      "metadata": {
        "colab": {
          "base_uri": "https://localhost:8080/"
        },
        "id": "En1NXk3y2YEB",
        "outputId": "e0eca7ac-3b9a-41d0-bfcc-e0f95810454d"
      },
      "execution_count": 46,
      "outputs": [
        {
          "output_type": "stream",
          "name": "stdout",
          "text": [
            "         0   1         2   3         4   5   6   7   8   9   ...  90  91  92  \\\n",
            "0  0.000097 NaN  0.000061 NaN  0.000056 NaN NaN NaN NaN NaN  ... NaN NaN NaN   \n",
            "1       NaN NaN  0.000205 NaN  0.000289 NaN NaN NaN NaN NaN  ... NaN NaN NaN   \n",
            "\n",
            "         93        94  95  96  97        98  99  \n",
            "0  0.000281  0.000314 NaN NaN NaN  0.000228 NaN  \n",
            "1       NaN       NaN NaN NaN NaN       NaN NaN  \n",
            "\n",
            "[2 rows x 100 columns]\n"
          ]
        }
      ]
    },
    {
      "cell_type": "code",
      "source": [
        "bandwidths_form = pd.DataFrame(data=bandwidths).T\n",
        "print(bandwidths_form)"
      ],
      "metadata": {
        "colab": {
          "base_uri": "https://localhost:8080/"
        },
        "id": "l1CKchAe2hWS",
        "outputId": "478f2543-0b46-448c-b5f0-2e8a93cc97e5"
      },
      "execution_count": 47,
      "outputs": [
        {
          "output_type": "stream",
          "name": "stdout",
          "text": [
            "      0   1     2   3     4   5   6   7   8   9   ...  90  91  92    93    94  \\\n",
            "0  127.0 NaN  38.0 NaN  38.0 NaN NaN NaN NaN NaN  ... NaN NaN NaN  85.0  89.0   \n",
            "1    NaN NaN  88.0 NaN  89.0 NaN NaN NaN NaN NaN  ... NaN NaN NaN   NaN   NaN   \n",
            "\n",
            "   95  96  97    98  99  \n",
            "0 NaN NaN NaN  89.0 NaN  \n",
            "1 NaN NaN NaN   NaN NaN  \n",
            "\n",
            "[2 rows x 100 columns]\n"
          ]
        }
      ]
    },
    {
      "cell_type": "code",
      "source": [
        "# sketch for min delay\n",
        "timeRange = range(1, 101)\n",
        "min_delays = delays_form.min()\n",
        "plt.scatter(timeRange, min_delays)\n",
        "plt.show()\n"
      ],
      "metadata": {
        "colab": {
          "base_uri": "https://localhost:8080/",
          "height": 265
        },
        "id": "gKOCYDVK2rhg",
        "outputId": "1180abe6-db7c-4a6e-bdac-2839d316a360"
      },
      "execution_count": 51,
      "outputs": [
        {
          "output_type": "display_data",
          "data": {
            "text/plain": [
              "<Figure size 432x288 with 1 Axes>"
            ],
            "image/png": "[encoded data removed]"
          },
          "metadata": {
            "needs_background": "light"
          }
        }
      ]
    },
    {
      "cell_type": "code",
      "source": [
        "# sketch for max delay\n",
        "max_delays = delays_form.max()\n",
        "plt.scatter(timeRange, max_delays)\n",
        "plt.show()"
      ],
      "metadata": {
        "colab": {
          "base_uri": "https://localhost:8080/",
          "height": 265
        },
        "id": "ZyGzRRodLW1v",
        "outputId": "478367b7-c980-4336-e2d3-55ee0920f70d"
      },
      "execution_count": 53,
      "outputs": [
        {
          "output_type": "display_data",
          "data": {
            "text/plain": [
              "<Figure size 432x288 with 1 Axes>"
            ],
            "image/png": "[encoded data removed]"
          },
          "metadata": {
            "needs_background": "light"
          }
        }
      ]
    },
    {
      "cell_type": "code",
      "source": [
        "# sketch for median delay\n",
        "median_delays = delays_form.median()\n",
        "plt.scatter(timeRange, median_delays)\n",
        "plt.show()"
      ],
      "metadata": {
        "colab": {
          "base_uri": "https://localhost:8080/",
          "height": 265
        },
        "id": "ejeKlvoNLhL9",
        "outputId": "5db7cb0d-6803-4236-eb03-9a37e5f356d1"
      },
      "execution_count": 55,
      "outputs": [
        {
          "output_type": "display_data",
          "data": {
            "text/plain": [
              "<Figure size 432x288 with 1 Axes>"
            ],
            "image/png": "[encoded data removed]"
          },
          "metadata": {
            "needs_background": "light"
          }
        }
      ]
    },
    {
      "cell_type": "code",
      "source": [
        "# sketch for 90th percentile delay\n",
        "quantile_delays = delays_form.quantile(0.9)\n",
        "plt.scatter(timeRange, quantile_delays)\n",
        "plt.show()"
      ],
      "metadata": {
        "colab": {
          "base_uri": "https://localhost:8080/",
          "height": 265
        },
        "id": "FyCDW1McLx6m",
        "outputId": "e76a4903-32f3-44c8-dba1-f0798c5db933"
      },
      "execution_count": 56,
      "outputs": [
        {
          "output_type": "display_data",
          "data": {
            "text/plain": [
              "<Figure size 432x288 with 1 Axes>"
            ],
            "image/png": "[encoded data removed]"
          },
          "metadata": {
            "needs_background": "light"
          }
        }
      ]
    },
    {
      "cell_type": "code",
      "source": [
        "# sketch for bandwidth\n",
        "bandwidth = bandwidths_form.sum()\n",
        "plt.scatter(timeRange, bandwidth)\n",
        "plt.show()"
      ],
      "metadata": {
        "colab": {
          "base_uri": "https://localhost:8080/",
          "height": 265
        },
        "id": "TF6sXTpsO_Ao",
        "outputId": "7c52575b-43b8-4ec6-b9dd-911c571ee7cb"
      },
      "execution_count": 57,
      "outputs": [
        {
          "output_type": "display_data",
          "data": {
            "text/plain": [
              "<Figure size 432x288 with 1 Axes>"
            ],
            "image/png": "[encoded data removed]"
          },
          "metadata": {
            "needs_background": "light"
          }
        }
      ]
    }
  ]
}